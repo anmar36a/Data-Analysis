{
  "nbformat": 4,
  "nbformat_minor": 0,
  "metadata": {
    "colab": {
      "provenance": [],
      "collapsed_sections": [
        "EDs0NeYRv5eY"
      ],
      "authorship_tag": "ABX9TyPYXOTD2ymZjPc7eteBMpX6",
      "include_colab_link": true
    },
    "kernelspec": {
      "name": "python3",
      "display_name": "Python 3"
    },
    "language_info": {
      "name": "python"
    }
  },
  "cells": [
    {
      "cell_type": "markdown",
      "metadata": {
        "id": "view-in-github",
        "colab_type": "text"
      },
      "source": [
        "<a href=\"https://colab.research.google.com/github/anmar36a/Data-Analysis/blob/main/Predict_Air_Quality.ipynb\" target=\"_parent\"><img src=\"https://colab.research.google.com/assets/colab-badge.svg\" alt=\"Open In Colab\"/></a>"
      ]
    },
    {
      "cell_type": "code",
      "execution_count": 1,
      "metadata": {
        "id": "v4EfOuQju-cY"
      },
      "outputs": [],
      "source": [
        "# Load main libraries\n",
        "import os\n",
        "from google.colab import drive\n",
        "\n",
        "import numpy as np\n",
        "import pandas as pd\n",
        "import sklearn\n",
        "from sklearn.model_selection import train_test_split"
      ]
    },
    {
      "cell_type": "markdown",
      "source": [
        "## Load dataset"
      ],
      "metadata": {
        "id": "EDs0NeYRv5eY"
      }
    },
    {
      "cell_type": "code",
      "source": [
        "drive.mount(\"/content/drive\")\n",
        "data_dir = \"/content/drive/My Drive/Codigo/predict aqi\"\n",
        "\n",
        "df = pd.read_csv(f\"{data_dir}/AQI-and-Lat-Long-of-Countries.csv\")"
      ],
      "metadata": {
        "colab": {
          "base_uri": "https://localhost:8080/"
        },
        "id": "zhkBcF48v21X",
        "outputId": "23484758-10f2-4ab9-a2d2-546fb653d5f5"
      },
      "execution_count": 2,
      "outputs": [
        {
          "output_type": "stream",
          "name": "stdout",
          "text": [
            "Drive already mounted at /content/drive; to attempt to forcibly remount, call drive.mount(\"/content/drive\", force_remount=True).\n"
          ]
        }
      ]
    },
    {
      "cell_type": "code",
      "source": [
        "# Display dataset characteristics\n",
        "print(f'The dataset has {df.shape} rows and columns')\n",
        "print(f'The columns are: {df.columns.tolist()}')\n",
        "print(f'Some statistical values:\\n{df.describe()}')\n",
        "print(f'First rows of the dataset:\\n{df.head()}')"
      ],
      "metadata": {
        "colab": {
          "base_uri": "https://localhost:8080/"
        },
        "id": "NU35bRMkwEli",
        "outputId": "bac61985-6169-4a71-bcf2-bb6dbded9736"
      },
      "execution_count": 3,
      "outputs": [
        {
          "output_type": "stream",
          "name": "stdout",
          "text": [
            "The dataset has (16695, 7) rows and columns\n",
            "The columns are: ['AQI Value', 'CO AQI Value', 'Ozone AQI Value', 'NO2 AQI Value', 'PM2.5 AQI Value', 'lat', 'lng']\n",
            "Some statistical values:\n",
            "          AQI Value  CO AQI Value  Ozone AQI Value  NO2 AQI Value  \\\n",
            "count  16695.000000  16695.000000     16695.000000   16695.000000   \n",
            "mean      62.998682      1.342138        31.767355       3.819647   \n",
            "std       43.091971      2.371379        22.839343       5.880677   \n",
            "min        7.000000      0.000000         0.000000       0.000000   \n",
            "25%       38.500000      1.000000        20.000000       0.000000   \n",
            "50%       52.000000      1.000000        29.000000       2.000000   \n",
            "75%       69.000000      1.000000        38.000000       5.000000   \n",
            "max      500.000000    133.000000       222.000000      91.000000   \n",
            "\n",
            "       PM2.5 AQI Value           lat           lng  \n",
            "count     16695.000000  16695.000000  16695.000000  \n",
            "mean         59.821324     30.267148     -3.944485  \n",
            "std          43.208298     22.947398     73.037148  \n",
            "min           0.000000    -54.801900   -171.750000  \n",
            "25%          34.000000     16.515450    -75.180000  \n",
            "50%          52.000000     38.815800      5.643100  \n",
            "75%          69.000000     46.683300     36.275000  \n",
            "max         500.000000     70.767000    178.017800  \n",
            "First rows of the dataset:\n",
            "   AQI Value  CO AQI Value  Ozone AQI Value  NO2 AQI Value  PM2.5 AQI Value  \\\n",
            "0         51             1               36              0               51   \n",
            "1         41             1                5              1               41   \n",
            "2         41             1                5              1               41   \n",
            "3         66             1               39              2               66   \n",
            "4         34             1               34              0               20   \n",
            "\n",
            "       lat      lng  \n",
            "0  44.7444  44.2031  \n",
            "1  -5.2900 -44.4900  \n",
            "2 -11.2958 -41.9869  \n",
            "3  37.1667  15.1833  \n",
            "4  53.0167  20.8833  \n"
          ]
        }
      ]
    },
    {
      "cell_type": "code",
      "source": [
        "print(f'NULL values: \\n {df.isnull().sum()}')\n",
        "print(f'NA values: \\n {df.isna().sum()}')\n",
        "print(f'INF values: \\n {np.isinf(df).any()}')"
      ],
      "metadata": {
        "colab": {
          "base_uri": "https://localhost:8080/"
        },
        "id": "wkqjnISsOba5",
        "outputId": "9aa24199-20f6-4168-8817-31cb86312881"
      },
      "execution_count": 4,
      "outputs": [
        {
          "output_type": "stream",
          "name": "stdout",
          "text": [
            "NULL values: \n",
            " AQI Value          0\n",
            "CO AQI Value       0\n",
            "Ozone AQI Value    0\n",
            "NO2 AQI Value      0\n",
            "PM2.5 AQI Value    0\n",
            "lat                0\n",
            "lng                0\n",
            "dtype: int64\n",
            "NA values: \n",
            " AQI Value          0\n",
            "CO AQI Value       0\n",
            "Ozone AQI Value    0\n",
            "NO2 AQI Value      0\n",
            "PM2.5 AQI Value    0\n",
            "lat                0\n",
            "lng                0\n",
            "dtype: int64\n",
            "INF values: \n",
            " AQI Value          False\n",
            "CO AQI Value       False\n",
            "Ozone AQI Value    False\n",
            "NO2 AQI Value      False\n",
            "PM2.5 AQI Value    False\n",
            "lat                False\n",
            "lng                False\n",
            "dtype: bool\n"
          ]
        }
      ]
    },
    {
      "cell_type": "markdown",
      "source": [
        "# Model Training"
      ],
      "metadata": {
        "id": "csxIvVWALA49"
      }
    },
    {
      "cell_type": "code",
      "source": [
        "# Prepare the dataset for training the model\n",
        "\n",
        "# Divide dataset into groups for training and testing. The variable to predict is AQUI Value.\n",
        "X_train, X_test, y_train, y_test = train_test_split(\n",
        "    df.drop([\"AQI Value\"], axis = 1), df[\"AQI Value\"], test_size=0.33, random_state=42)\n",
        "\n",
        "print('The resulting datasets have the following shape: ')\n",
        "print(X_train.shape)\n",
        "print(y_train.shape)\n",
        "print(X_test.shape)\n",
        "print(y_test.shape)"
      ],
      "metadata": {
        "colab": {
          "base_uri": "https://localhost:8080/"
        },
        "id": "4Ym4FNSIHd4m",
        "outputId": "c599e2ba-0fdb-4b72-c8e3-de90ea892b53"
      },
      "execution_count": 5,
      "outputs": [
        {
          "output_type": "stream",
          "name": "stdout",
          "text": [
            "The resulting datasets have the following shape: \n",
            "(11185, 6)\n",
            "(11185,)\n",
            "(5510, 6)\n",
            "(5510,)\n"
          ]
        }
      ]
    },
    {
      "cell_type": "code",
      "source": [
        "# Prepare Forest Regressor\n",
        "from sklearn.ensemble import RandomForestRegressor, AdaBoostRegressor\n",
        "\n",
        "model1 = RandomForestRegressor()"
      ],
      "metadata": {
        "id": "JmHpzXan2Scq"
      },
      "execution_count": 6,
      "outputs": []
    },
    {
      "cell_type": "code",
      "source": [
        "# Train the model\n",
        "model1.fit(X_train, y_train)\n",
        "\n",
        "# Check scores\n",
        "m1_score = model1.score(X_test, y_test)\n",
        "print(f\"The score on the training dataset is: {model1.score(X_train, y_train)}\")\n",
        "print(f\"The score on the test dataset is: {m1_score}\")"
      ],
      "metadata": {
        "colab": {
          "base_uri": "https://localhost:8080/"
        },
        "id": "g-ujhH8VDu4t",
        "outputId": "e547ad72-5514-4fe1-b5a8-4e4ae4bfb563"
      },
      "execution_count": 7,
      "outputs": [
        {
          "output_type": "stream",
          "name": "stdout",
          "text": [
            "The score on the training dataset is: 0.9997237087745328\n",
            "The score on the test dataset is: 0.9979556580430697\n"
          ]
        }
      ]
    },
    {
      "cell_type": "code",
      "source": [
        "# Prepare and train Ada Boost Regressor\n",
        "from sklearn.ensemble import AdaBoostRegressor\n",
        "\n",
        "model2 = AdaBoostRegressor()\n",
        "\n",
        "# Train the model\n",
        "model2.fit(X_train, y_train)\n",
        "\n",
        "# Check scores\n",
        "m2_score = model2.score(X_test, y_test)\n",
        "print(f\"The score on the training dataset is: {model2.score(X_train, y_train)}\")\n",
        "print(f\"The score on the test dataset is: {m2_score}\")"
      ],
      "metadata": {
        "colab": {
          "base_uri": "https://localhost:8080/"
        },
        "id": "FVKkPyKoF9jF",
        "outputId": "ac875b97-3a98-40ec-8b99-a6792415682d"
      },
      "execution_count": 8,
      "outputs": [
        {
          "output_type": "stream",
          "name": "stdout",
          "text": [
            "The score on the training dataset is: 0.9120675344276582\n",
            "The score on the test dataset is: 0.9103198025018331\n"
          ]
        }
      ]
    },
    {
      "cell_type": "code",
      "source": [
        "# Display best model\n",
        "if m1_score > m2_score:\n",
        "  best_model = \"Random Forest Regressor\"\n",
        "else:\n",
        "  best_model = \"Ada Boost Regressor\"\n",
        "\n",
        "print(f\"The model with the highest accuracy is {best_model} with an accuracy \"\n",
        "  f\"{round(abs(m1_score - m2_score), 4) * 100}% higher.\")"
      ],
      "metadata": {
        "colab": {
          "base_uri": "https://localhost:8080/"
        },
        "id": "BuvV0x68Hv7Z",
        "outputId": "97978af8-ebec-44b0-d38b-5d1525ae14c2"
      },
      "execution_count": 9,
      "outputs": [
        {
          "output_type": "stream",
          "name": "stdout",
          "text": [
            "The model with the highest accuracy is Random Forest Regressor with an accuracy 8.76% higher.\n"
          ]
        }
      ]
    },
    {
      "cell_type": "markdown",
      "source": [
        "# Adresses extraction"
      ],
      "metadata": {
        "id": "RStPVJvCK6V4"
      }
    },
    {
      "cell_type": "code",
      "source": [
        "# Get the address of a given coordinates\n",
        "import geopy\n",
        "from geopy.geocoders import Nominatim\n",
        "\n",
        "rand_int = np.random.randint(0,len(df))\n",
        "geolocator = Nominatim(user_agent=\"Andres\")\n",
        "\n",
        "coordinates_test = df.loc[rand_int, [\"lat\", \"lng\"]]\n",
        "print(f\"The info obtained from the geolocator is: \\n{geolocator.reverse(coordinates_test).raw}\")\n",
        "\n",
        "def getAddress(coordinates):\n",
        "  \"\"\"Get a general address for a given coordinates\"\"\"\n",
        "  location = geolocator.reverse(coordinates)\n",
        "\n",
        "  area_type = location.raw[\"type\"]\n",
        "  try:  town = location.raw[\"address\"][\"town\"]\n",
        "  except: town = location.raw[\"address\"][\"state\"]\n",
        "  country = location.raw[\"address\"][\"country\"]\n",
        "\n",
        "  str_address = (f'{area_type} area in {town}, {country}')\n",
        "\n",
        "  return str_address\n",
        "\n",
        "print(getAddress(df.loc[rand_int, [\"lat\", \"lng\"]]))"
      ],
      "metadata": {
        "colab": {
          "base_uri": "https://localhost:8080/"
        },
        "id": "379FpsCnKQcm",
        "outputId": "b2c825ce-ab59-4404-f8a1-7a4f85c5189b"
      },
      "execution_count": 11,
      "outputs": [
        {
          "output_type": "stream",
          "name": "stdout",
          "text": [
            "The info obtained from the geolocator is: \n",
            "{'place_id': 223808794, 'licence': 'Data © OpenStreetMap contributors, ODbL 1.0. http://osm.org/copyright', 'osm_type': 'way', 'osm_id': 62190680, 'lat': '55.033290050000005', 'lon': '82.91656361134753', 'class': 'building', 'type': 'apartments', 'place_rank': 30, 'importance': 9.99999999995449e-06, 'addresstype': 'building', 'name': '', 'display_name': '4, Потанинская улица, Депутатский, Центральный район, Новосибирск, городской округ Новосибирск, Новосибирская область, Сибирский федеральный округ, 630099, Россия', 'address': {'house_number': '4', 'road': 'Потанинская улица', 'suburb': 'Депутатский', 'city_district': 'Центральный район', 'city': 'Новосибирск', 'county': 'городской округ Новосибирск', 'state': 'Новосибирская область', 'ISO3166-2-lvl4': 'RU-NVS', 'region': 'Сибирский федеральный округ', 'postcode': '630099', 'country': 'Россия', 'country_code': 'ru'}, 'boundingbox': ['55.0331815', '55.0334096', '82.9161502', '82.9169888']}\n",
            "apartments area in Новосибирская область, Россия\n"
          ]
        }
      ]
    },
    {
      "cell_type": "code",
      "source": [
        "# Display zone, town and country of the place with the most dangerous air\n",
        "high_idx = df[\"AQI Value\"].idxmax()\n",
        "high_value = max(df[\"AQI Value\"])\n",
        "high_coordinates = df.loc[high_value, [\"lat\", \"lng\"]].tolist()\n",
        "\n",
        "print(f\"Values over 200 are considered hazardous.\\n\"\n",
        "f\"The place with the most dangerous air in the dataset, \"\n",
        "f\"with an AQI value of {high_value} is {getAddress(high_coordinates)}.\")"
      ],
      "metadata": {
        "colab": {
          "base_uri": "https://localhost:8080/"
        },
        "id": "5_02InmPoe2r",
        "outputId": "553c0d48-2870-4a1d-e702-910cb015868c"
      },
      "execution_count": 12,
      "outputs": [
        {
          "output_type": "stream",
          "name": "stdout",
          "text": [
            "Values over 200 are considered hazardous.\n",
            "The place with the most dangerous air in the dataset, with an AQI value of 500 is tertiary area in Tamil Nadu, India.\n"
          ]
        }
      ]
    },
    {
      "cell_type": "code",
      "source": [
        "# Display zone, towns and countries of the 10 places with the healthiest air\n",
        "sorted_df = df.sort_values(by=\"AQI Value\").reset_index()\n",
        "\n",
        "print(\"The places with the best air quality for human health in the dataset are:\\n\")\n",
        "for i in range(10):\n",
        "  # Loop to avoid connection warnings\n",
        "  while True:\n",
        "    try:\n",
        "      aqi_value = sorted_df.at[i, \"AQI Value\"]\n",
        "      coordinates = sorted_df.loc[i , [\"lat\", \"lng\"]].tolist()\n",
        "    except:\n",
        "      continue\n",
        "    break\n",
        "\n",
        "  address = getAddress(coordinates)\n",
        "  print(f'{i+1}. {address}, with a value of {aqi_value}.')"
      ],
      "metadata": {
        "colab": {
          "base_uri": "https://localhost:8080/"
        },
        "id": "o5DPAmZqyT-V",
        "outputId": "26738f09-6b6d-4a37-b11a-a23938e342de"
      },
      "execution_count": 13,
      "outputs": [
        {
          "output_type": "stream",
          "name": "stdout",
          "text": [
            "The places with the best air quality for human health in the dataset are:\n",
            "\n",
            "1. unclassified area in Morona Santiago, Ecuador, with a value of 7.\n",
            "2. aerodrome area in Hela, Papua Niugini, with a value of 8.\n",
            "3. residential area in Azogues, Ecuador, with a value of 8.\n",
            "4. residential area in Ancash, Perú, with a value of 9.\n",
            "5. unclassified area in Papua Barat, Indonesia, with a value of 10.\n",
            "6. place_of_worship area in Nueva Loja, Ecuador, with a value of 10.\n",
            "7. pharmacy area in Huancavelica, Perú, with a value of 10.\n",
            "8. residential area in Correntina, Brasil, with a value of 11.\n",
            "9. residential area in Huamachuco, Perú, with a value of 11.\n",
            "10. house area in Chubut, Argentina, with a value of 11.\n"
          ]
        }
      ]
    },
    {
      "cell_type": "code",
      "source": [
        "# Display zone, towns and countries of the 10 places with the most dangerous air\n",
        "sorted_df = df.sort_values(by=\"AQI Value\", ascending=False).reset_index()\n",
        "\n",
        "print(\"The places with the best air quality for health in the dataset are:\\n\")\n",
        "for i in range(10):\n",
        "  while True:\n",
        "    try:\n",
        "      aqi_value = sorted_df.at[i, \"AQI Value\"]\n",
        "      coordinates = sorted_df.loc[i , [\"lat\", \"lng\"]].tolist()\n",
        "    except:\n",
        "      continue\n",
        "    break\n",
        "\n",
        "  address = getAddress(coordinates)\n",
        "  print(f'{i+1}. {address}, with a value of {aqi_value}.')"
      ],
      "metadata": {
        "colab": {
          "base_uri": "https://localhost:8080/"
        },
        "id": "vRoUUOuz3z0Q",
        "outputId": "02b17ecf-c5e5-4dd4-c83b-7c63e375ed00"
      },
      "execution_count": 14,
      "outputs": [
        {
          "output_type": "stream",
          "name": "stdout",
          "text": [
            "The places with the best air quality for health in the dataset are:\n",
            "\n",
            "1. unclassified area in Haryana, India, with a value of 500.\n",
            "2. residential area in Rajasthan, India, with a value of 500.\n",
            "3. trunk area in Тында, Россия, with a value of 500.\n",
            "4. yes area in Zürich, Schweiz/Suisse/Svizzera/Svizra, with a value of 500.\n",
            "5. house area in Colorado, United States, with a value of 500.\n",
            "6. yes area in Durango, España, with a value of 500.\n",
            "7. residential area in Durango, México, with a value of 500.\n",
            "8. unclassified area in Punjab, India, with a value of 500.\n",
            "9. car area in California, United States, with a value of 500.\n",
            "10. secondary area in Delhi, India, with a value of 500.\n"
          ]
        }
      ]
    },
    {
      "cell_type": "code",
      "source": [
        "# Find how many metrics there are per city\n",
        "# Does not work because of latency of geolocator library\n",
        "\n",
        "countries_column = []\n",
        "\n",
        "\"\"\"for i in range(len(df)):\n",
        "  coordinates = sorted_df.loc[i , [\"lat\", \"lng\"]].tolist()\n",
        "  while True:\n",
        "    try:\n",
        "      location = geolocator.reverse(coordinates)\n",
        "    except:\n",
        "      continue\n",
        "    break\n",
        "  country = location.address\n",
        "  countries_column.append(country)\"\"\"\n",
        "\n",
        "df['Country'] = countries_column"
      ],
      "metadata": {
        "colab": {
          "base_uri": "https://localhost:8080/"
        },
        "id": "8U5c-UaNjU59",
        "outputId": "3e425833-e4f2-4f6d-e143-dde342ed8d64"
      },
      "execution_count": null,
      "outputs": [
        {
          "output_type": "stream",
          "name": "stderr",
          "text": [
            "WARNING:urllib3.connectionpool:Retrying (Retry(total=1, connect=None, read=None, redirect=None, status=None)) after connection broken by 'ReadTimeoutError(\"HTTPSConnectionPool(host='nominatim.openstreetmap.org', port=443): Read timed out. (read timeout=1)\")': /reverse?lat=29.9928&lon=73.2536&format=json&addressdetails=1\n",
            "WARNING:urllib3.connectionpool:Retrying (Retry(total=1, connect=None, read=None, redirect=None, status=None)) after connection broken by 'ReadTimeoutError(\"HTTPSConnectionPool(host='nominatim.openstreetmap.org', port=443): Read timed out. (read timeout=1)\")': /reverse?lat=29.482&lon=77.7&format=json&addressdetails=1\n",
            "WARNING:urllib3.connectionpool:Retrying (Retry(total=1, connect=None, read=None, redirect=None, status=None)) after connection broken by 'ReadTimeoutError(\"HTTPSConnectionPool(host='nominatim.openstreetmap.org', port=443): Read timed out. (read timeout=1)\")': /reverse?lat=19.55&lon=-98.9&format=json&addressdetails=1\n",
            "WARNING:urllib3.connectionpool:Retrying (Retry(total=1, connect=None, read=None, redirect=None, status=None)) after connection broken by 'ReadTimeoutError(\"HTTPSConnectionPool(host='nominatim.openstreetmap.org', port=443): Read timed out. (read timeout=1)\")': /reverse?lat=-25.6344&lon=27.7811&format=json&addressdetails=1\n",
            "WARNING:urllib3.connectionpool:Retrying (Retry(total=1, connect=None, read=None, redirect=None, status=None)) after connection broken by 'ReadTimeoutError(\"HTTPSConnectionPool(host='nominatim.openstreetmap.org', port=443): Read timed out. (read timeout=1)\")': /reverse?lat=24.1439&lon=120.6794&format=json&addressdetails=1\n",
            "WARNING:urllib3.connectionpool:Retrying (Retry(total=1, connect=None, read=None, redirect=None, status=None)) after connection broken by 'ReadTimeoutError(\"HTTPSConnectionPool(host='nominatim.openstreetmap.org', port=443): Read timed out. (read timeout=1)\")': /reverse?lat=35.6&lon=116.9833&format=json&addressdetails=1\n",
            "WARNING:urllib3.connectionpool:Retrying (Retry(total=1, connect=None, read=None, redirect=None, status=None)) after connection broken by 'ReadTimeoutError(\"HTTPSConnectionPool(host='nominatim.openstreetmap.org', port=443): Read timed out. (read timeout=1)\")': /reverse?lat=23.2&lon=77.08&format=json&addressdetails=1\n",
            "WARNING:urllib3.connectionpool:Retrying (Retry(total=1, connect=None, read=None, redirect=None, status=None)) after connection broken by 'ReadTimeoutError(\"HTTPSConnectionPool(host='nominatim.openstreetmap.org', port=443): Read timed out. (read timeout=1)\")': /reverse?lat=37.0659&lon=114.4753&format=json&addressdetails=1\n",
            "WARNING:urllib3.connectionpool:Retrying (Retry(total=1, connect=None, read=None, redirect=None, status=None)) after connection broken by 'ReadTimeoutError(\"HTTPSConnectionPool(host='nominatim.openstreetmap.org', port=443): Read timed out. (read timeout=1)\")': /reverse?lat=25.3032&lon=87.8623&format=json&addressdetails=1\n",
            "WARNING:urllib3.connectionpool:Retrying (Retry(total=1, connect=None, read=None, redirect=None, status=None)) after connection broken by 'ReadTimeoutError(\"HTTPSConnectionPool(host='nominatim.openstreetmap.org', port=443): Read timed out. (read timeout=1)\")': /reverse?lat=46.9333&lon=7.4833&format=json&addressdetails=1\n",
            "WARNING:urllib3.connectionpool:Retrying (Retry(total=1, connect=None, read=None, redirect=None, status=None)) after connection broken by 'ReadTimeoutError(\"HTTPSConnectionPool(host='nominatim.openstreetmap.org', port=443): Read timed out. (read timeout=1)\")': /reverse?lat=25.3256&lon=86.5051&format=json&addressdetails=1\n",
            "WARNING:urllib3.connectionpool:Retrying (Retry(total=1, connect=None, read=None, redirect=None, status=None)) after connection broken by 'ReadTimeoutError(\"HTTPSConnectionPool(host='nominatim.openstreetmap.org', port=443): Read timed out. (read timeout=1)\")': /reverse?lat=29.121&lon=78.621&format=json&addressdetails=1\n",
            "WARNING:urllib3.connectionpool:Retrying (Retry(total=1, connect=None, read=None, redirect=None, status=None)) after connection broken by 'ReadTimeoutError(\"HTTPSConnectionPool(host='nominatim.openstreetmap.org', port=443): Read timed out. (read timeout=1)\")': /reverse?lat=-26.8142&lon=27.8286&format=json&addressdetails=1\n",
            "WARNING:urllib3.connectionpool:Retrying (Retry(total=1, connect=None, read=None, redirect=None, status=None)) after connection broken by 'ReadTimeoutError(\"HTTPSConnectionPool(host='nominatim.openstreetmap.org', port=443): Read timed out. (read timeout=1)\")': /reverse?lat=-33.9367&lon=18.8614&format=json&addressdetails=1\n",
            "WARNING:urllib3.connectionpool:Retrying (Retry(total=1, connect=None, read=None, redirect=None, status=None)) after connection broken by 'ReadTimeoutError(\"HTTPSConnectionPool(host='nominatim.openstreetmap.org', port=443): Read timed out. (read timeout=1)\")': /reverse?lat=25.1245&lon=86.5558&format=json&addressdetails=1\n",
            "WARNING:urllib3.connectionpool:Retrying (Retry(total=0, connect=None, read=None, redirect=None, status=None)) after connection broken by 'ReadTimeoutError(\"HTTPSConnectionPool(host='nominatim.openstreetmap.org', port=443): Read timed out. (read timeout=1)\")': /reverse?lat=25.1245&lon=86.5558&format=json&addressdetails=1\n",
            "WARNING:urllib3.connectionpool:Retrying (Retry(total=1, connect=None, read=None, redirect=None, status=None)) after connection broken by 'ReadTimeoutError(\"HTTPSConnectionPool(host='nominatim.openstreetmap.org', port=443): Read timed out. (read timeout=1)\")': /reverse?lat=25.1245&lon=86.5558&format=json&addressdetails=1\n",
            "WARNING:urllib3.connectionpool:Retrying (Retry(total=0, connect=None, read=None, redirect=None, status=None)) after connection broken by 'ReadTimeoutError(\"HTTPSConnectionPool(host='nominatim.openstreetmap.org', port=443): Read timed out. (read timeout=1)\")': /reverse?lat=25.1245&lon=86.5558&format=json&addressdetails=1\n",
            "WARNING:urllib3.connectionpool:Retrying (Retry(total=1, connect=None, read=None, redirect=None, status=None)) after connection broken by 'ReadTimeoutError(\"HTTPSConnectionPool(host='nominatim.openstreetmap.org', port=443): Read timed out. (read timeout=1)\")': /reverse?lat=25.1245&lon=86.5558&format=json&addressdetails=1\n",
            "WARNING:urllib3.connectionpool:Retrying (Retry(total=0, connect=None, read=None, redirect=None, status=None)) after connection broken by 'ReadTimeoutError(\"HTTPSConnectionPool(host='nominatim.openstreetmap.org', port=443): Read timed out. (read timeout=1)\")': /reverse?lat=25.1245&lon=86.5558&format=json&addressdetails=1\n",
            "WARNING:urllib3.connectionpool:Retrying (Retry(total=1, connect=None, read=None, redirect=None, status=None)) after connection broken by 'ReadTimeoutError(\"HTTPSConnectionPool(host='nominatim.openstreetmap.org', port=443): Read timed out. (read timeout=1)\")': /reverse?lat=25.1245&lon=86.5558&format=json&addressdetails=1\n",
            "WARNING:urllib3.connectionpool:Retrying (Retry(total=0, connect=None, read=None, redirect=None, status=None)) after connection broken by 'ReadTimeoutError(\"HTTPSConnectionPool(host='nominatim.openstreetmap.org', port=443): Read timed out. (read timeout=1)\")': /reverse?lat=25.1245&lon=86.5558&format=json&addressdetails=1\n",
            "WARNING:urllib3.connectionpool:Retrying (Retry(total=1, connect=None, read=None, redirect=None, status=None)) after connection broken by 'ReadTimeoutError(\"HTTPSConnectionPool(host='nominatim.openstreetmap.org', port=443): Read timed out. (read timeout=1)\")': /reverse?lat=25.0397&lon=86.9025&format=json&addressdetails=1\n",
            "WARNING:urllib3.connectionpool:Retrying (Retry(total=0, connect=None, read=None, redirect=None, status=None)) after connection broken by 'ReadTimeoutError(\"HTTPSConnectionPool(host='nominatim.openstreetmap.org', port=443): Read timed out. (read timeout=1)\")': /reverse?lat=25.0397&lon=86.9025&format=json&addressdetails=1\n",
            "WARNING:urllib3.connectionpool:Retrying (Retry(total=1, connect=None, read=None, redirect=None, status=None)) after connection broken by 'ReadTimeoutError(\"HTTPSConnectionPool(host='nominatim.openstreetmap.org', port=443): Read timed out. (read timeout=1)\")': /reverse?lat=25.0397&lon=86.9025&format=json&addressdetails=1\n",
            "WARNING:urllib3.connectionpool:Retrying (Retry(total=1, connect=None, read=None, redirect=None, status=None)) after connection broken by 'ReadTimeoutError(\"HTTPSConnectionPool(host='nominatim.openstreetmap.org', port=443): Read timed out. (read timeout=1)\")': /reverse?lat=28.25&lon=77.07&format=json&addressdetails=1\n",
            "WARNING:urllib3.connectionpool:Retrying (Retry(total=0, connect=None, read=None, redirect=None, status=None)) after connection broken by 'ReadTimeoutError(\"HTTPSConnectionPool(host='nominatim.openstreetmap.org', port=443): Read timed out. (read timeout=1)\")': /reverse?lat=28.25&lon=77.07&format=json&addressdetails=1\n",
            "WARNING:urllib3.connectionpool:Retrying (Retry(total=1, connect=None, read=None, redirect=None, status=None)) after connection broken by 'ReadTimeoutError(\"HTTPSConnectionPool(host='nominatim.openstreetmap.org', port=443): Read timed out. (read timeout=1)\")': /reverse?lat=22.3302&lon=87.3237&format=json&addressdetails=1\n",
            "WARNING:urllib3.connectionpool:Retrying (Retry(total=1, connect=None, read=None, redirect=None, status=None)) after connection broken by 'ReadTimeoutError(\"HTTPSConnectionPool(host='nominatim.openstreetmap.org', port=443): Read timed out. (read timeout=1)\")': /reverse?lat=28.6453&lon=70.6567&format=json&addressdetails=1\n",
            "WARNING:urllib3.connectionpool:Retrying (Retry(total=0, connect=None, read=None, redirect=None, status=None)) after connection broken by 'ReadTimeoutError(\"HTTPSConnectionPool(host='nominatim.openstreetmap.org', port=443): Read timed out. (read timeout=1)\")': /reverse?lat=28.6453&lon=70.6567&format=json&addressdetails=1\n",
            "WARNING:urllib3.connectionpool:Retrying (Retry(total=1, connect=None, read=None, redirect=None, status=None)) after connection broken by 'ReadTimeoutError(\"HTTPSConnectionPool(host='nominatim.openstreetmap.org', port=443): Read timed out. (read timeout=1)\")': /reverse?lat=28.6453&lon=70.6567&format=json&addressdetails=1\n",
            "WARNING:urllib3.connectionpool:Retrying (Retry(total=0, connect=None, read=None, redirect=None, status=None)) after connection broken by 'ReadTimeoutError(\"HTTPSConnectionPool(host='nominatim.openstreetmap.org', port=443): Read timed out. (read timeout=1)\")': /reverse?lat=28.6453&lon=70.6567&format=json&addressdetails=1\n",
            "WARNING:urllib3.connectionpool:Retrying (Retry(total=1, connect=None, read=None, redirect=None, status=None)) after connection broken by 'ReadTimeoutError(\"HTTPSConnectionPool(host='nominatim.openstreetmap.org', port=443): Read timed out. (read timeout=1)\")': /reverse?lat=28.6453&lon=70.6567&format=json&addressdetails=1\n",
            "WARNING:urllib3.connectionpool:Retrying (Retry(total=1, connect=None, read=None, redirect=None, status=None)) after connection broken by 'ReadTimeoutError(\"HTTPSConnectionPool(host='nominatim.openstreetmap.org', port=443): Read timed out. (read timeout=1)\")': /reverse?lat=28.6453&lon=70.6567&format=json&addressdetails=1\n",
            "WARNING:urllib3.connectionpool:Retrying (Retry(total=0, connect=None, read=None, redirect=None, status=None)) after connection broken by 'ReadTimeoutError(\"HTTPSConnectionPool(host='nominatim.openstreetmap.org', port=443): Read timed out. (read timeout=1)\")': /reverse?lat=28.6453&lon=70.6567&format=json&addressdetails=1\n"
          ]
        }
      ]
    },
    {
      "cell_type": "code",
      "source": [
        "print(countries_column).value_counts()"
      ],
      "metadata": {
        "id": "u65q35tYolqF"
      },
      "execution_count": null,
      "outputs": []
    }
  ]
}